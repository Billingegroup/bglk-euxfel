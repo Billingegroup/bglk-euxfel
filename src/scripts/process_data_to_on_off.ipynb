{
 "cells": [
  {
   "cell_type": "markdown",
   "id": "0",
   "metadata": {},
   "source": [
    "# Group data into on and off diffraction intensities vs. delay time\n",
    "\n",
    "This code is here so it is under git control, but it should be loaded on the Maxwell cluster instrument at the\n",
    "European XFEL.  The file-paths refer to directories on Maxwell, specifically at time of writing for the experiment\n",
    "with Sam Marks and team."
   ]
  },
  {
   "cell_type": "markdown",
   "id": "1",
   "metadata": {},
   "source": [
    "Import necessary libraries"
   ]
  },
  {
   "cell_type": "code",
   "execution_count": null,
   "id": "2",
   "metadata": {},
   "outputs": [],
   "source": [
    "import sys\n",
    "\n",
    "import matplotlib.pyplot as plt\n",
    "import numpy as np\n",
    "from extra.components import Scan, Scantool, OpticalLaserDelay\n",
    "from extra.utils import imshow2\n",
    "from extra_data import RunDirectory, open_run\n",
    "from extra_data.components import LPD1M\n",
    "from extra_geom import LPD_1MGeometry\n",
    "from matplotlib.gridspec import GridSpec\n",
    "from extra.components import XrayPulses\n",
    "\n",
    "# sys.path.append(\"/gpfs/exfel/data/user/bermudei/FXE\")\n",
    "sys.path.append(\"/gpfs/exfel/exp/FXE/202501/p008015/usr/Shared/amore/\")\n",
    "from fxeutils.digitizers import process_digitizer, digitizer_peaks_params, digitizer_intensity\n",
    "from fxeutils.common import align_tids, create_scan_object, scan_type\n",
    "from fxeutils.pumpprobe_splitter import array_split_pp#, array_split_pp_new\n",
    "from fxeutils.scattering import (\n",
    "    diff_iq,\n",
    "    fom_q,\n",
    "    get_integrator,\n",
    "    get_lpd_geom,\n",
    "    integrate_run,\n",
    "    ref_iq,\n",
    "    split_iq,\n",
    ")\n",
    "from fxeutils.xes import scan_xes\n",
    "from pathlib import Path\n",
    "from damnit import Damnit\n",
    "%matplotlib widget"
   ]
  },
  {
   "cell_type": "code",
   "execution_count": null,
   "id": "3",
   "metadata": {},
   "outputs": [],
   "source": [
    "proposal = 8015     # number of the proposal\n",
    "max_run = 190       # the code will try and process all scans from any numbered zero up to max_run\n",
    "overwrite = False   # set to true if you want to reanalyze previously analyzed data, otherwise set to False for faster response"
   ]
  },
  {
   "cell_type": "code",
   "execution_count": null,
   "id": "4",
   "metadata": {},
   "outputs": [],
   "source": [
    "db = Damnit(proposal)\n",
    "cwd = Path().cwd()\n",
    "savePath = cwd/'save_raw_integrated_Data'\n",
    "not_pp_run_Path = savePath/f'not_pump_probe_run.npy'            # this file contains IDs of runs that cannot be read fas delay-time runs\n",
    "analyzed_pp_run_Path = savePath/f'analyzed_pump_probe_run.npy'  # this file contains IDs of runs that have been previously analyzed."
   ]
  },
  {
   "cell_type": "code",
   "execution_count": null,
   "id": "5",
   "metadata": {},
   "outputs": [],
   "source": [
    "not_pump_probe_run = np.load(not_pp_run_Path)\n",
    "analyzed_pumped_probe_run = np.load(analyzed_pp_run_Path)\n",
    "for run_number in np.arange(max_run+1):\n",
    "    if run_number not in not_pump_probe_run:\n",
    "        if run_number in analyzed_pumped_probe_run and not overwrite:\n",
    "            print(f'skipping run {run_number} not overwriting previous analyzed scan')\n",
    "            continue\n",
    "        else:\n",
    "            print(f'working on run {run_number}')\n",
    "            try: \n",
    "                run = open_run(proposal, run_number, data=\"all\")\n",
    "            except FileNotFoundError:\n",
    "                print(f'run {run_number} not found')\n",
    "                not_pump_probe_run = np.append(not_pump_probe_run,[run_number])\n",
    "                continue\n",
    "            try:\n",
    "                myvar = db[run_number, \"Iq_lpd\"]\n",
    "                az_intd = myvar.read()\n",
    "            except KeyError:\n",
    "                print(f'run {run_number} has no Iq_lpd data, dark image?')\n",
    "                not_pump_probe_run = np.append(not_pump_probe_run,run_number)\n",
    "                continue\n",
    "            sorted_azint = split_iq(run, az_intd, norm=False)\n",
    "            iq_on = sorted_azint[\"pumped\"]   \n",
    "            iq_off = sorted_azint[\"unpumped\"]\n",
    "            iq_diff = sorted_azint[\"diff\"]\n",
    "            q= az_intd[\"q\"]\n",
    "            try:\n",
    "                scan_motor = scan_type(run)\n",
    "                scan = create_scan_object(run, scan_motor)\n",
    "            except KeyError:\n",
    "                print(f'run {run_number} generate KeyError, no pump-probe delay?')\n",
    "                not_pump_probe_run = np.append(not_pump_probe_run,run_number)\n",
    "                continue\n",
    "            try:\n",
    "                if scan_motor:\n",
    "                    scan_2d_diff = scan_xes(run, scan_motor, iq_diff.squeeze())\n",
    "                    scan_2d_on = scan_xes(run, scan_motor, iq_on.squeeze())\n",
    "                    scan_2d_off = scan_xes(run, scan_motor, iq_off.squeeze())\n",
    "                else:\n",
    "                    print(f'run {run_number} has no motor')\n",
    "                    not_pump_probe_run = np.append(not_pump_probe_run,run_number)\n",
    "                    continue\n",
    "            except ValueError:\n",
    "                print(f'run {run_number} generated ValueError in scan_xes')\n",
    "                not_pump_probe_run = np.append(not_pump_probe_run,run_number)\n",
    "                continue\n",
    "            str_run_number = str(run_number).zfill(4)\n",
    "            onPath = savePath/f'run{str_run_number}_delay_intensity_on.npy'\n",
    "            offPath = savePath/f'run{str_run_number}_delay_intensity_off.npy'\n",
    "            delayPath = savePath/f'run{str_run_number}_delay_positions.npy'\n",
    "            qPath = savePath/f'run{str_run_number}_q_values.npy'\n",
    "            np.save(onPath, scan_2d_on)\n",
    "            np.save(offPath, scan_2d_off)\n",
    "            np.save(delayPath, scan.positions)\n",
    "            np.save(qPath, iq_on[\"q\"].values)\n",
    "            analyzed_pumped_probe_run = np.append(analyzed_pumped_probe_run,run_number)\n",
    "    else:\n",
    "        print(f'skipping run {run_number} not a pump probe scan')\n",
    "np.save(not_pp_run_Path, not_pump_probe_run)\n",
    "np.save(analyzed_pp_run_Path, analyzed_pumped_probe_run)"
   ]
  },
  {
   "cell_type": "code",
   "execution_count": null,
   "id": "6",
   "metadata": {},
   "outputs": [],
   "source": [
    "print(not_pump_probe_run)"
   ]
  },
  {
   "cell_type": "code",
   "execution_count": null,
   "id": "7",
   "metadata": {},
   "outputs": [],
   "source": [
    "fig, ax1 = plt.subplots(figsize=(9, 7))\n",
    "\n",
    "ax1.plot(az_intd.q, az_intd.mean(dim=(\"trainId\", \"pulseId\")))\n",
    "ax1.set_xlabel(\"q [A^-1]\")\n",
    "ax1.set_ylabel(\"Intensity [arb. u]\")\n",
    "ax1.set_title(\"Mean I(q) over all trains and pulses\")\n",
    "ax1.grid()"
   ]
  },
  {
   "cell_type": "code",
   "execution_count": null,
   "id": "8",
   "metadata": {},
   "outputs": [],
   "source": []
  },
  {
   "cell_type": "code",
   "execution_count": null,
   "id": "9",
   "metadata": {},
   "outputs": [],
   "source": [
    "fig = plt.figure(figsize=(9, 7))\n",
    "gs = GridSpec(2, 2, figure=fig)\n",
    "ax1 = fig.add_subplot(gs[0, :])\n",
    "ax2 = fig.add_subplot(gs[1, 0])\n",
    "ax3 = fig.add_subplot(gs[1, 1])\n",
    "\n",
    "ax1.plot(az_intd.q, az_intd.mean(dim=(\"trainId\", \"pulseId\")))\n",
    "ax1.set_xlabel(\"q [A^-1]\")\n",
    "ax1.set_ylabel(\"Intensity [arb. u]\")\n",
    "ax1.set_title(\"Mean I(q) over all trains and pulses\")\n",
    "ax1.grid()\n",
    "\n",
    "pulse_mean = az_intd.mean(\"trainId\")\n",
    "im = imshow2(\n",
    "    pulse_mean,\n",
    "    ax=ax2,\n",
    "    aspect=\"auto\",\n",
    "    extent=[az_intd.q.min(), az_intd.q.max(), len(az_intd.pulseId), 0],\n",
    ")\n",
    "ax2.set_xlabel(\"q [A^-1]\")\n",
    "ax2.set_ylabel(\"Pulse ID\")\n",
    "ax2.set_title(\"I(q) per-pulse (averaged over trains)\")\n",
    "fig.colorbar(im, ax=ax2)\n",
    "\n",
    "train_mean = az_intd.mean(\"pulseId\")\n",
    "im = imshow2(\n",
    "    train_mean,\n",
    "    ax=ax3,\n",
    "    aspect=\"auto\",\n",
    "    extent=[az_intd.q.min(), az_intd.q.max(), len(az_intd.trainId), 0],\n",
    ")\n",
    "ax3.set_xlabel(\"q [A^-1]\")\n",
    "ax3.set_ylabel(\"Train\")\n",
    "ax3.set_title(\"I(q) per-train (averaged over pulses)\")\n",
    "fig.colorbar(im, ax=ax3)\n",
    "\n",
    "fig.tight_layout()"
   ]
  },
  {
   "cell_type": "code",
   "execution_count": null,
   "id": "10",
   "metadata": {},
   "outputs": [],
   "source": [
    "sorted_azint_norm_sq = split_iq(run, az_intd, norm=True)"
   ]
  },
  {
   "cell_type": "code",
   "execution_count": null,
   "id": "11",
   "metadata": {},
   "outputs": [],
   "source": [
    "sorted_azint_norm_iq = split_iq(run, az_intd, norm=True, q_min=0.1, q_max=11)"
   ]
  },
  {
   "cell_type": "code",
   "execution_count": null,
   "id": "12",
   "metadata": {},
   "outputs": [],
   "source": [
    "sorted_azint_norm_i0 = split_iq(run, az_intd, norm=True, digitizer='2C_raw')"
   ]
  },
  {
   "cell_type": "code",
   "execution_count": null,
   "id": "13",
   "metadata": {},
   "outputs": [],
   "source": [
    "digi=run.alias['2C_raw']\n",
    "I0=process_digitizer(run,digi,-40,120,-500,-150,0,3000)[0]\n",
    "I0_nw =process_digitizer(run,digi,-5,5,-500,-150,0,3000)[0]"
   ]
  },
  {
   "cell_type": "code",
   "execution_count": null,
   "id": "14",
   "metadata": {},
   "outputs": [],
   "source": [
    "fig, ax = plt.subplots(figsize=(9, 7))\n",
    "\n",
    "ax.plot(az_intd[\"q\"], iq_on.mean(dim=[\"trainId\", \"pulseId\"]), label=\"laser on\")\n",
    "ax.plot(az_intd[\"q\"], iq_off.mean(dim=[\"trainId\", \"pulseId\"]), label=\"laser off\")\n",
    "ax.set_xlabel(\"q $(A^{-1})$\")\n",
    "ax.set_ylabel(\"S(q)\")\n",
    "ax.set_title(\"S(q) averaged over all trains\")\n",
    "ax.grid()\n",
    "ax2 = ax.twinx()\n",
    "ax2.plot(\n",
    "    az_intd[\"q\"],\n",
    "    iq_diff.mean(dim=[\"trainId\", \"pulseId\"]),\n",
    "    label=\"difference\",\n",
    "    color=\"green\",\n",
    ")\n",
    "\n",
    "ax2.set_ylabel(\"S(q) difference\")\n",
    "ax.legend()\n",
    "ax2.legend()"
   ]
  },
  {
   "cell_type": "code",
   "execution_count": null,
   "id": "15",
   "metadata": {},
   "outputs": [],
   "source": []
  }
 ],
 "metadata": {
  "kernelspec": {
   "display_name": "xfel (current)",
   "language": "python",
   "name": "xfel-current"
  },
  "language_info": {
   "codemirror_mode": {
    "name": "ipython",
    "version": 3
   },
   "file_extension": ".py",
   "mimetype": "text/x-python",
   "name": "python",
   "nbconvert_exporter": "python",
   "pygments_lexer": "ipython3",
   "version": "3.11.6"
  }
 },
 "nbformat": 4,
 "nbformat_minor": 5
}
